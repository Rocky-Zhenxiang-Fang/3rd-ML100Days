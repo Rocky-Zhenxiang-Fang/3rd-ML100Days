{
 "cells": [
  {
   "cell_type": "markdown",
   "metadata": {},
   "source": [
    "## 練習時間\n",
    "#### 請寫一個函式用來計算 Mean Square Error\n",
    "$ MSE = \\frac{1}{n}\\sum_{i=1}^{n}{(Y_i - \\hat{Y}_i)^2} $\n",
    "\n",
    "### Hint: [如何取平方](https://googoodesign.gitbooks.io/-ezpython/unit-1.html)"
   ]
  },
  {
   "cell_type": "markdown",
   "metadata": {},
   "source": [
    "# [作業目標]\n",
    "- 仿造範例的MAE函數, 自己寫一個MSE函數(參考上面公式)"
   ]
  },
  {
   "cell_type": "markdown",
   "metadata": {},
   "source": [
    "# [作業重點]\n",
    "- 注意程式的縮排\n",
    "- 是否能將數學公式, 轉換為 Python 的函式組合? (In[2], Out[2])"
   ]
  },
  {
   "cell_type": "code",
   "execution_count": 1,
   "metadata": {},
   "outputs": [],
   "source": [
    "# 載入基礎套件與代稱\n",
    "import numpy as np\n",
    "import matplotlib.pyplot as plt\n"
   ]
  },
  {
   "cell_type": "code",
   "execution_count": 8,
   "metadata": {},
   "outputs": [],
   "source": [
    "def mean_absolute_error(y, yp):\n",
    "    \"\"\"\n",
    "    計算 MAE\n",
    "    Args:\n",
    "        - y: 實際值\n",
    "        - yp: 預測值\n",
    "    Return:\n",
    "        - mae: MAE\n",
    "    \"\"\"\n",
    "    mae = MAE = sum(abs(y - yp)) / len(y)\n",
    "    return mae\n",
    "\n",
    "# 定義 mean_squared_error 這個函數, 計算並傳回 MSE\n",
    "def mean_squared_error(y, yp):\n",
    "    \"\"\"\n",
    "    請完成這個 Function 後往下執行\n",
    "    \"\"\"\n",
    "    mseArray = []\n",
    "    \n",
    "    for i in range(len(y)):\n",
    "        mseArray.append((y[i]-yp[1])**2)\n",
    "        \n",
    "    return sum(mseArray)/len(y)"
   ]
  },
  {
   "cell_type": "code",
   "execution_count": 3,
   "metadata": {},
   "outputs": [
    {
     "data": {
      "image/png": "[encoded data removed]",
      "text/plain": [
       "<Figure size 432x288 with 1 Axes>"
      ]
     },
     "metadata": {
      "needs_background": "light"
     },
     "output_type": "display_data"
    }
   ],
   "source": [
    "# 與範例相同, 不另外解說\n",
    "w = 3\n",
    "b = 0.5\n",
    "x_lin = np.linspace(0, 100, 101)\n",
    "y = (x_lin + np.random.randn(101) * 5) * w + b\n",
    "\n",
    "plt.plot(x_lin, y, 'b.', label = 'data points')\n",
    "plt.title(\"Assume we have data points\")\n",
    "plt.legend(loc = 2)\n",
    "plt.show()"
   ]
  },
  {
   "cell_type": "code",
   "execution_count": 4,
   "metadata": {},
   "outputs": [
    {
     "data": {
      "image/png": "[encoded data removed]",
      "text/plain": [
       "<Figure size 432x288 with 1 Axes>"
      ]
     },
     "metadata": {
      "needs_background": "light"
     },
     "output_type": "display_data"
    }
   ],
   "source": [
    "# 與範例相同, 不另外解說\n",
    "y_hat = x_lin * w + b\n",
    "plt.plot(x_lin, y, 'b.', label = 'data')\n",
    "plt.plot(x_lin, y_hat, 'r-', label = 'prediction')\n",
    "plt.title(\"Assume we have data points (And the prediction)\")\n",
    "plt.legend(loc = 2)\n",
    "plt.show()"
   ]
  },
  {
   "cell_type": "code",
   "execution_count": 12,
   "metadata": {
    "scrolled": true
   },
   "outputs": [
    {
     "name": "stdout",
     "output_type": "stream",
     "text": [
      "The Mean squared error is 186.299\n",
      "The Mean absolute error is 10.591\n"
     ]
    },
    {
     "data": {
      "text/plain": [
       "186.29877959339433"
      ]
     },
     "execution_count": 12,
     "metadata": {},
     "output_type": "execute_result"
    }
   ],
   "source": [
    "# 執行 Function, 確認有沒有正常執行\n",
    "MSE = mean_squared_error(y, y_hat)\n",
    "MAE = mean_absolute_error(y, y_hat)\n",
    "\n",
    "print(\"The Mean squared error is %.3f\" % (MSE))\n",
    "print(\"The Mean absolute error is %.3f\" % (MAE))\n",
    "\n",
    "#檢查\n",
    "from sklearn.metrics import mean_squared_error \n",
    "mean_squared_error(y, y_hat)"
   ]
  },
  {
   "cell_type": "markdown",
   "metadata": {},
   "source": [
    "# [作業2]\n",
    "\n",
    "請上 Kaggle, 在 Competitions 或 Dataset 中找一組競賽或資料並寫下：\n",
    "我選擇的是Sportradar Baseball dataset (https://www.kaggle.com/sportradar/baseball)\n",
    "\n",
    "1. 你選的這組資料為何重要\n",
    "\n",
    "    現代棒球打者強調全力揮棒，也因此提升了全壘打率與三振率。因此可以期待球數變化會與傳統印象不同。\n",
    "    這筆資料有的是playbyplay的資料，換言之，我們可以得到在不同球數下面對不同球種的的打擊結果，也可以藉此來驗證現在打者是否真的會在球數落後的情形下揮大棒；或是投手的配球策略是否應因應這種情形而有所改變。最後也可以比較不同球隊相似球員或k/9 hr/ab接近的球隊來分析此種打擊策略是否正確。\n",
    "  \n",
    "  \n",
    "2. 資料從何而來 (tips: 譬如提供者是誰、以什麼方式蒐集)\n",
    "\n",
    "    提供者為Sportradar LLC，為一個研究用資料庫。\n",
    "\n",
    "3. 蒐集而來的資料型態為何\n",
    "\n",
    "    這些資料依據資料內容以不同型態儲存，如投手、打者名稱為字串，而球數、球隊終場比分為整數，而某些特定的結果（是否為安打、三振等）則以1,0整數儲存，可視為布林值。\n",
    "    \n",
    "\n",
    "4. 這組資料想解決的問題如何評估\n",
    "\n",
    "    最簡單的方法就是使用第一題提到的對比並比較兩支球隊的勝率。而球員的比較則可以使用WAR或是OPS等進階數據來表示。另外，也要做迴歸分析來檢討Ｒ平方值是否夠高。\n",
    "    \n",
    "\n",
    "# [作業3]\n",
    "\n",
    "想像你經營一個自由載客車隊，你希望能透過數據分析以提升業績，請你思考並描述你如何規劃整體的分析/解決方案：\n",
    "\n",
    "1. 核心問題為何 (tips：如何定義 「提升業績 & 你的假設」)\n",
    "\n",
    "    我認為提升業績定義為提升收入，因此不計算為了提升業績而增加的成本。若要計算，問題應該改為如何提升利潤而非成本。\n",
    "    收入為載客＊平均車資。而這也是一個供應曲線的問題，我們要追求整條線的移動而非僅僅是點在線上的移動。\n",
    "    為了提升載客，問題為哪些路線有大量的計程車需求。另外，也可以觀察哪些人願意與人共乘以降低每人車資。\n",
    "    為了提升車資，可以挑夜間或晨間比較少其他車的時候提升車資。另外，也可以觀察哪些人會願意付出更高的錢換取不同的服務，如更大的車、安靜的車、大的行李空間等。\n",
    "    \n",
    "\n",
    "2. 資料從何而來 (tips：哪些資料可能會對你想問的問題產生影響 & 資料如何蒐集)\n",
    "\n",
    "    地區型態，如此地區為住宅、商用還是住商混雜。這可以用地圖得知。\n",
    "    大眾交通方便度，此地區是否容易被大眾交通抵達，包含路線數、距離大眾交通工具的步行距離。這可以用地圖結合捷運局與公車局的資料得知。\n",
    "    地區收入，此住宅區或商業區從事的行業是否為高收入族群。這可以從司機對乘客的觀察、商店種類甚至地價來評分。\n",
    "\n",
    "3. 蒐集而來的資料型態為何\n",
    "    地區型態，收集回來的資料應為字串。\n",
    "    大眾交通方便度，收集回來的資料為一串陣列，其中包含可達到的方法數、轉成方便度、步行距離等等。\n",
    "    地區收入，收集到的資料應為整數或整數區間。\n",
    "\n",
    "4. 你要回答的問題，其如何評估 (tips：你的假設如何驗證)\n",
    "\n",
    "    將這三種資料分別加權給分後，將每趟車的收入與這三種資料分別回歸。並觀察相關程度與變異數程度。"
   ]
  },
  {
   "cell_type": "markdown",
   "metadata": {},
   "source": [
    "\n"
   ]
  }
 ],
 "metadata": {
  "anaconda-cloud": {},
  "kernelspec": {
   "display_name": "Python 3",
   "language": "python",
   "name": "python3"
  },
  "language_info": {
   "codemirror_mode": {
    "name": "ipython",
    "version": 3
   },
   "file_extension": ".py",
   "mimetype": "text/x-python",
   "name": "python",
   "nbconvert_exporter": "python",
   "pygments_lexer": "ipython3",
   "version": "3.7.3"
  }
 },
 "nbformat": 4,
 "nbformat_minor": 1
}
